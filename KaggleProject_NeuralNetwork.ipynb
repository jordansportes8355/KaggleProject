{
 "cells": [
  {
   "cell_type": "code",
   "execution_count": 1,
   "metadata": {
    "collapsed": false
   },
   "outputs": [
    {
     "name": "stdout",
     "output_type": "stream",
     "text": [
      "Populating the interactive namespace from numpy and matplotlib\n"
     ]
    }
   ],
   "source": [
    "import numpy as np\n",
    "import matplotlib.pyplot as plt\n",
    "from sklearn import preprocessing\n",
    "# Load pylab\n",
    "%pylab inline"
   ]
  },
  {
   "cell_type": "code",
   "execution_count": 2,
   "metadata": {
    "collapsed": false
   },
   "outputs": [
    {
     "name": "stdout",
     "output_type": "stream",
     "text": [
      "[  16.   40.   32. ...,  168.  129.   88.]\n"
     ]
    }
   ],
   "source": [
    "uc=[2,3,4,5,6,7,8,9,10,11,12,13]\n",
    "X = np.loadtxt('data/train.csv',  delimiter=',', \n",
    "               skiprows=1, usecols=uc)\n",
    "y = np.loadtxt('data/train.csv',  delimiter=',', \n",
    "               skiprows=1, usecols=[14])\n",
    "X_real_test = np.loadtxt('data/test.csv',  delimiter=',', \n",
    "               skiprows=1, usecols=uc)\n",
    "firstColumnInd = np.loadtxt('data/test.csv',  delimiter=',', \n",
    "               skiprows=1, usecols=[0])\n",
    "\n",
    "\n",
    "def logCnt(x):\n",
    "    return log(x)\n",
    "    \n",
    "def expCnt(x):\n",
    "    return exp(x)-1\n",
    "    \n",
    "print y\n",
    "#y = np.ndarray.astype(map(logCnt, y))\n",
    "#print y"
   ]
  },
  {
   "cell_type": "code",
   "execution_count": 3,
   "metadata": {
    "collapsed": true
   },
   "outputs": [],
   "source": [
    "X[:,0] = preprocessing.scale(X[:,0])\n",
    "X[:,1] = preprocessing.scale(X[:,1])\n",
    "X[:,2] = preprocessing.scale(X[:,2])\n",
    "X[:,4] = preprocessing.scale(X[:,4])\n",
    "X[:,5] = preprocessing.scale(X[:,5])\n",
    "X[:,6] = preprocessing.scale(X[:,6])\n",
    "X[:,8] = preprocessing.scale(X[:,8])\n",
    "\n",
    "\n",
    "X_real_test[:,0] = preprocessing.scale(X_real_test[:,0])\n",
    "X_real_test[:,1] = preprocessing.scale(X_real_test[:,1])\n",
    "X_real_test[:,2] = preprocessing.scale(X_real_test[:,2])\n",
    "X_real_test[:,4] = preprocessing.scale(X_real_test[:,4])\n",
    "X_real_test[:,5] = preprocessing.scale(X_real_test[:,5])\n",
    "X_real_test[:,6] = preprocessing.scale(X_real_test[:,6])\n",
    "X_real_test[:,8] = preprocessing.scale(X_real_test[:,8])"
   ]
  },
  {
   "cell_type": "code",
   "execution_count": 6,
   "metadata": {
    "collapsed": false
   },
   "outputs": [
    {
     "name": "stdout",
     "output_type": "stream",
     "text": [
      "(8164L, 12L)\n",
      "(2722L, 12L)\n"
     ]
    }
   ],
   "source": [
    "from sklearn.cross_validation import train_test_split\n",
    "X_train, X_test, y_train, y_test = train_test_split(X, y, random_state=30)\n",
    "print X_train.shape\n",
    "print X_test.shape"
   ]
  },
  {
   "cell_type": "code",
   "execution_count": null,
   "metadata": {
    "collapsed": false
   },
   "outputs": [],
   "source": [
    "from sklearn.neural_network import MLPClassifier\n",
    "clf = MLPClassifier(solver='lbfgs', alpha=1e-5, hidden_layer_sizes=(5, 2),random_state=1)\n",
    "\n",
    "clf.fit(X_train, y_train) \n",
    "\n",
    "y_pred_train = clf.predict(X_train)\n",
    "y_pred_test = clf.predict(X_test)\n",
    "\n",
    "print clf.score(X_train, y_train)\n",
    "print clf.score(X_test, y_test)"
   ]
  },
  {
   "cell_type": "code",
   "execution_count": null,
   "metadata": {
    "collapsed": false
   },
   "outputs": [
    {
     "name": "stderr",
     "output_type": "stream",
     "text": [
      "C:\\Users\\jordan\\Anaconda2\\lib\\site-packages\\theano\\tensor\\signal\\downsample.py:6: UserWarning: downsample module has been moved to the theano.tensor.signal.pool module.\n",
      "  \"downsample module has been moved to the theano.tensor.signal.pool module.\")\n"
     ]
    }
   ],
   "source": [
    "from sknn.mlp import Classifier, Layer\n",
    "nn = Classifier(\n",
    "    layers=[\n",
    "        Layer(\"Rectifier\", units=100),\n",
    "        Layer(\"Softmax\")],\n",
    "    learning_rate=0.02,\n",
    "    n_iter=10)\n",
    "X_train.shape\n",
    "y_train.shape\n",
    "nn.fit(X_train, y_train)\n",
    "\n",
    "#y_valid = nn.predict(X_valid)\n",
    "\n",
    "score = nn.score(X_test, y_test)"
   ]
  },
  {
   "cell_type": "code",
   "execution_count": null,
   "metadata": {
    "collapsed": true
   },
   "outputs": [],
   "source": []
  }
 ],
 "metadata": {
  "anaconda-cloud": {},
  "kernelspec": {
   "display_name": "Python [default]",
   "language": "python",
   "name": "python2"
  },
  "language_info": {
   "codemirror_mode": {
    "name": "ipython",
    "version": 2
   },
   "file_extension": ".py",
   "mimetype": "text/x-python",
   "name": "python",
   "nbconvert_exporter": "python",
   "pygments_lexer": "ipython2",
   "version": "2.7.12"
  }
 },
 "nbformat": 4,
 "nbformat_minor": 1
}
