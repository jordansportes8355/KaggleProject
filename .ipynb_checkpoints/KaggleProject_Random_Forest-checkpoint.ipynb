{
 "cells": [
  {
   "cell_type": "code",
   "execution_count": 7,
   "metadata": {
    "collapsed": false
   },
   "outputs": [
    {
     "name": "stdout",
     "output_type": "stream",
     "text": [
      "Populating the interactive namespace from numpy and matplotlib\n",
      "1.0\n",
      "[10 10 10 ..., 10 10 10]\n",
      "[[  432    10]\n",
      " [  433    10]\n",
      " [  434    10]\n",
      " ..., \n",
      " [17377    10]\n",
      " [17378    10]\n",
      " [17379    10]]\n"
     ]
    }
   ],
   "source": [
    "import numpy as np\n",
    "import matplotlib.pyplot as plt\n",
    "from sklearn import preprocessing\n",
    "# Load pylab\n",
    "%pylab inline\n",
    "\n",
    "from sklearn.model_selection import cross_val_score\n",
    "from sklearn.datasets import make_blobs\n",
    "from sklearn.ensemble import RandomForestClassifier\n",
    "from sklearn.ensemble import ExtraTreesClassifier\n",
    "from sklearn.tree import DecisionTreeClassifier\n",
    "\n",
    "\n",
    "uc=[2,3,4,5,6,7,8,9,10,11,12,13]\n",
    "X = np.loadtxt('data/train.csv',  delimiter=',', \n",
    "               skiprows=1, usecols=uc,converters = {1: datestr2num})\n",
    "y = np.loadtxt('data/train.csv',  delimiter=',', \n",
    "               skiprows=1, usecols=[14])\n",
    "X_real_test = np.loadtxt('data/test.csv',  delimiter=',', \n",
    "               skiprows=1, usecols=uc,converters = {1: datestr2num})\n",
    "firstColumnInd = np.loadtxt('data/test.csv',  delimiter=',', \n",
    "               skiprows=1, usecols=[0],converters = {1: datestr2num})\n",
    "\n",
    "\n",
    "def logCnt(x):\n",
    "    return log(1+x)\n",
    "    \n",
    "def expCnt(x):\n",
    "    return exp(x)+1\n",
    "    \n",
    "\n",
    "map(logCnt, y)\n",
    "\n",
    "\n",
    "X[:,0] = preprocessing.scale(X[:,0])\n",
    "X[:,1] = preprocessing.scale(X[:,1])\n",
    "X[:,2] = preprocessing.scale(X[:,2])\n",
    "X[:,4] = preprocessing.scale(X[:,4])\n",
    "X[:,5] = preprocessing.scale(X[:,5])\n",
    "X[:,6] = preprocessing.scale(X[:,6])\n",
    "X[:,8] = preprocessing.scale(X[:,8])\n",
    "\n",
    "\n",
    "X_real_test[:,0] = preprocessing.scale(X_real_test[:,0])\n",
    "X_real_test[:,1] = preprocessing.scale(X_real_test[:,1])\n",
    "X_real_test[:,2] = preprocessing.scale(X_real_test[:,2])\n",
    "X_real_test[:,4] = preprocessing.scale(X_real_test[:,4])\n",
    "X_real_test[:,5] = preprocessing.scale(X_real_test[:,5])\n",
    "X_real_test[:,6] = preprocessing.scale(X_real_test[:,6])\n",
    "X_real_test[:,8] = preprocessing.scale(X_real_test[:,8])\n",
    "\n",
    "\n",
    "#X, y = make_blobs(n_samples=10000, n_features=10, centers=100,random_state=0)\n",
    "\n",
    "#clf = DecisionTreeClassifier(max_depth=None, min_samples_split=2,random_state=0)\n",
    "#scores = cross_val_score(clf, X, y)\n",
    "#print scores.mean()                             \n",
    "\n",
    "\n",
    "clf = RandomForestClassifier(n_estimators=12, max_depth=None,min_samples_split=2, random_state=0)\n",
    "scores = cross_val_score(clf, X, y)\n",
    "print scores.mean()                             \n",
    "\n",
    "\n",
    "#clf = ExtraTreesClassifier(n_estimators=10, max_depth=None,min_samples_split=2, random_state=0)\n",
    "#scores = cross_val_score(clf, X, y)\n",
    "#print scores.mean() \n",
    "clf.fit(X,y)\n",
    "y_pred_test_real = clf.predict(X_real_test)\n",
    "map(expCnt, y)\n",
    "print y_pred_test_real\n",
    "\n",
    "y_pred_test_real_final = np.ndarray(shape=(len(y_pred_test_real),2), dtype=int)\n",
    "\n",
    "for i in range (0,len(y_pred_test_real)):\n",
    "    y_pred_test_real_final[i,0] = firstColumnInd[i]\n",
    "    y_pred_test_real_final[i,1] = round(y_pred_test_real[i],0)\n",
    "    \n",
    "print y_pred_test_real_final\n",
    "\n",
    "numpy.savetxt(\"predictive_count.csv\", y_pred_test_real_final, delimiter=\",\",fmt='%d')\n"
   ]
  },
  {
   "cell_type": "code",
   "execution_count": null,
   "metadata": {
    "collapsed": true
   },
   "outputs": [],
   "source": []
  }
 ],
 "metadata": {
  "kernelspec": {
   "display_name": "Python [conda root]",
   "language": "python",
   "name": "conda-root-py"
  },
  "language_info": {
   "codemirror_mode": {
    "name": "ipython",
    "version": 2
   },
   "file_extension": ".py",
   "mimetype": "text/x-python",
   "name": "python",
   "nbconvert_exporter": "python",
   "pygments_lexer": "ipython2",
   "version": "2.7.12"
  }
 },
 "nbformat": 4,
 "nbformat_minor": 1
}
