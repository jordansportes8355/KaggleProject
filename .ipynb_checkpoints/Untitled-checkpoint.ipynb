{
 "cells": [
  {
   "cell_type": "code",
   "execution_count": null,
   "metadata": {
    "collapsed": true
   },
   "outputs": [],
   "source": [
    "import pandas as pd\n",
    "import numpy as np\n",
    "import matplotlib.pyplot as plt\n",
    "%matplotlib inline"
   ]
  },
  {
   "cell_type": "code",
   "execution_count": null,
   "metadata": {
    "collapsed": true
   },
   "outputs": [],
   "source": [
    "df = pd.read_csv('train.csv')"
   ]
  },
  {
   "cell_type": "code",
   "execution_count": null,
   "metadata": {
    "collapsed": true
   },
   "outputs": [],
   "source": [
    "def trans(df):\n",
    "    dt = df['datetime']\n",
    "    dt2 = pd.to_datetime(dt)\n",
    "    df['dt_day'] = dt2.apply(lambda x: x.day)\n",
    "    df['dt_weekday'] = dt2.apply(lambda x: x.weekday())\n",
    "    df['dt_month'] = dt2.apply(lambda x: x.month)\n",
    "    df['dt_hour'] = dt2.apply(lambda x: x.hour)\n",
    "    df = df.drop('datetime', axis = 1)\n",
    "    return df\n",
    "df = trans(df)"
   ]
  },
  {
   "cell_type": "code",
   "execution_count": null,
   "metadata": {
    "collapsed": true
   },
   "outputs": [],
   "source": [
    "df"
   ]
  },
  {
   "cell_type": "code",
   "execution_count": null,
   "metadata": {
    "collapsed": true
   },
   "outputs": [],
   "source": [
    "from sklearn.ensemble import RandomForestRegressor\n",
    "from sklearn.cross_validation import train_test_split\n",
    "from sklearn.metrics import mean_squared_error"
   ]
  },
  {
   "cell_type": "code",
   "execution_count": null,
   "metadata": {
    "collapsed": true
   },
   "outputs": [],
   "source": [
    "X, y = df.drop(['casual', 'registered', 'count'], axis = 1), np.log(df[['casual', 'registered', 'count'] + 1)\n",
    "(X_train, X_test, y_train, y_test) = train_test_split(X, y, test_size = 0.2)"
   ]
  },
  {
   "cell_type": "code",
   "execution_count": null,
   "metadata": {
    "collapsed": true
   },
   "outputs": [],
   "source": [
    "clf0 = RandomForestRegressor(n_estimators=200)\n",
    "clf1 = RandomForestRegressor(n_estimators=200)\n",
    "clf0.fit(X_train, y_train['casual'])\n",
    "print clf0\n",
    "clf1.fit(X_train, y_train['registered'])\n",
    "print clf1\n",
    "\n",
    "y_pred_casual = clf0.predict(X_test)\n",
    "y_pred_registered = clf1.predict(X_test)\n",
    "y_pred = np.log(np.exp(y_pred_casual) - 1 + np.exp(y_pred_registered) - 1 + 1)\n",
    "mean_squared_error(y_pred, y_test['count'])"
   ]
  },
  {
   "cell_type": "code",
   "execution_count": null,
   "metadata": {
    "collapsed": true
   },
   "outputs": [],
   "source": [
    "clf0.fit(X, y['casual'])\n",
    "clf1.fit(X, y['registered'])\n",
    "df_input = pd.read_csv('test.csv')\n",
    "df_input2 = trans(df_input)\n",
    "output0 = clf0.predict(df_input2)\n",
    "output1 = clf1.predict(df_input2)\n",
    "output = np.round(np.exp(output0) - 1 + np.exp(output1) - 1)\n",
    "df_output = pd.DataFrame({'datetime': df_input['datetime'], 'count': output}, columns=('datetime', 'count'))\n",
    "df_output['count'] = df_output['count'].astype(int)\n",
    "df_output.to_csv('submission-rf.csv', index = False)"
   ]
  },
  {
   "cell_type": "code",
   "execution_count": null,
   "metadata": {
    "collapsed": true
   },
   "outputs": [],
   "source": [
    "import xgboost as xgb\n",
    "params = {'shrinkage': 0.1, 'tree_num': 2000, 'depth' :6 }\n",
    "bst0 = xgb.train(params, xgb.DMatrix(X_train, y_train['casual']), num_boost_round=50)\n",
    "bst1 = xgb.train(params, xgb.DMatrix(X_train, y_train['registered']), num_boost_round=50)\n",
    "y_pred_casual = bst0.predict(xgb.DMatrix(X_test))\n",
    "y_pred_registered = bst1.predict(xgb.DMatrix(X_test))\n",
    "y_pred = np.log(np.exp(y_pred_casual) - 1 + np.exp(y_pred_registered) - 1 + 1)\n",
    "mean_squared_error(y_pred, y_test['count'])"
   ]
  },
  {
   "cell_type": "code",
   "execution_count": null,
   "metadata": {
    "collapsed": true
   },
   "outputs": [],
   "source": [
    "bst0 = xgb.train(params, xgb.DMatrix(X, y['casual']), num_boost_round=50)\n",
    "bst1 = xgb.train(params, xgb.DMatrix(X, y['registered']), num_boost_round=50)\n",
    "df_input = pd.read_csv('test.csv')\n",
    "df_input2 = trans(df_input)\n",
    "output0 = bst0.predict(xgb.DMatrix(df_input2))\n",
    "output1 = bst1.predict(xgb.DMatrix(df_input2))\n",
    "output = np.round(np.exp(output0) - 1 + np.exp(output1) - 1)\n",
    "df_output = pd.DataFrame({'datetime': df_input['datetime'], 'count': output}, columns=('datetime', 'count'))\n",
    "df_output['count'] = df_output['count'].astype(int)\n",
    "df_output.to_csv('submission-xgb.csv', index = False)"
   ]
  },
  {
   "cell_type": "code",
   "execution_count": null,
   "metadata": {
    "collapsed": true
   },
   "outputs": [],
   "source": [
    "df_rf = pd.read_csv('submission-rf.csv')\n",
    "df_xgb = pd.read_csv('submission-xgb.csv')\n",
    "df_avg = pd.DataFrame(df_rf)\n",
    "df_avg['count'] = ((df_rf['count'] + df_xgb['count']) * 0.5).astype(int)\n",
    "df_avg.to_csv('submission.csv', index = False)"
   ]
  }
 ],
 "metadata": {
  "kernelspec": {
   "display_name": "Python [conda root]",
   "language": "python",
   "name": "conda-root-py"
  },
  "language_info": {
   "codemirror_mode": {
    "name": "ipython",
    "version": 2
   },
   "file_extension": ".py",
   "mimetype": "text/x-python",
   "name": "python",
   "nbconvert_exporter": "python",
   "pygments_lexer": "ipython2",
   "version": "2.7.12"
  }
 },
 "nbformat": 4,
 "nbformat_minor": 1
}
