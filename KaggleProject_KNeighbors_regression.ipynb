{
 "cells": [
  {
   "cell_type": "code",
   "execution_count": 131,
   "metadata": {
    "collapsed": false
   },
   "outputs": [
    {
     "name": "stdout",
     "output_type": "stream",
     "text": [
      "Populating the interactive namespace from numpy and matplotlib\n"
     ]
    }
   ],
   "source": [
    "import numpy as np\n",
    "import matplotlib.pyplot as plt\n",
    "# Load pylab\n",
    "%pylab inline"
   ]
  },
  {
   "cell_type": "code",
   "execution_count": 287,
   "metadata": {
    "collapsed": false
   },
   "outputs": [],
   "source": [
    "uc=[2,3,4,5,8,11,12,13]\n",
    "X = np.loadtxt('data/train.csv',  delimiter=',', \n",
    "               skiprows=1, usecols=uc,converters = {1: datestr2num})\n",
    "y = np.loadtxt('data/train.csv',  delimiter=',', \n",
    "               skiprows=1, usecols=[14])\n",
    "X_real_test = np.loadtxt('data/test.csv',  delimiter=',', \n",
    "               skiprows=1, usecols=uc,converters = {1: datestr2num})"
   ]
  },
  {
   "cell_type": "code",
   "execution_count": 288,
   "metadata": {
    "collapsed": false
   },
   "outputs": [
    {
     "name": "stdout",
     "output_type": "stream",
     "text": [
      "[ 172.    4.   37. ...,  242.  142.   32.]\n"
     ]
    }
   ],
   "source": [
    "from sklearn.cross_validation import train_test_split\n",
    "X_train, X_test, y_train, y_test = train_test_split(X, y, random_state=3)\n",
    "print y_test"
   ]
  },
  {
   "cell_type": "code",
   "execution_count": 289,
   "metadata": {
    "collapsed": false
   },
   "outputs": [
    {
     "name": "stdout",
     "output_type": "stream",
     "text": [
      "0.963722205381\n",
      "0.877321155358\n"
     ]
    }
   ],
   "source": [
    "from sklearn.neighbors import KNeighborsRegressor\n",
    "kneighbor_regression = KNeighborsRegressor(n_neighbors=2)\n",
    "kneighbor_regression.fit(X_train, y_train)\n",
    "\n",
    "y_pred_train = kneighbor_regression.predict(X_train)\n",
    "y_pred_test = kneighbor_regression.predict(X_test)\n",
    "\n",
    "print kneighbor_regression.score(X_train, y_train)\n",
    "print kneighbor_regression.score(X_test, y_test)"
   ]
  },
  {
   "cell_type": "code",
   "execution_count": 272,
   "metadata": {
    "collapsed": false
   },
   "outputs": [
    {
     "name": "stdout",
     "output_type": "stream",
     "text": [
      "[   8.5    3.     2.5 ...,  179.5  117.5  106.5]\n"
     ]
    }
   ],
   "source": [
    "y_pred_test_real = kneighbor_regression.predict(X_real_test)\n",
    "print y_pred_test_real"
   ]
  },
  {
   "cell_type": "code",
   "execution_count": 265,
   "metadata": {
    "collapsed": false
   },
   "outputs": [
    {
     "name": "stdout",
     "output_type": "stream",
     "text": [
      "106.5\n",
      "1.0\n",
      "<type 'numpy.float64'>\n"
     ]
    },
    {
     "data": {
      "text/plain": [
       "1.0"
      ]
     },
     "execution_count": 265,
     "metadata": {},
     "output_type": "execute_result"
    }
   ],
   "source": [
    "for i in range (0,len(y_pred_test_real)-1):\n",
    "    if y_pred_test_real[i] < 0:\n",
    "        y_pred_test_real[i] = 0\n",
    "print y_pred_test_real[6493-1]\n",
    "print X_real_test[6493-1,0]\n",
    "X_real_test[0,0].astype(int)\n",
    "X_real_test[0,0] = int(float(X_real_test[0,0]))\n",
    "print type(X_real_test[0,0])\n",
    "X_real_test[0,0]\n",
    "#caster en int !!"
   ]
  },
  {
   "cell_type": "code",
   "execution_count": 237,
   "metadata": {
    "collapsed": false
   },
   "outputs": [
    {
     "name": "stdout",
     "output_type": "stream",
     "text": [
      "[[  1  11]\n",
      " [  1   2]\n",
      " [  1   2]\n",
      " ..., \n",
      " [  1 179]\n",
      " [  1 119]\n",
      " [  1 106]]\n"
     ]
    }
   ],
   "source": [
    "y_pred_test_real_final = np.ndarray(shape=(len(y_pred_test_real),2), dtype=int)\n",
    "for i in range (0,len(y_pred_test_real)):\n",
    "    y_pred_test_real_final[i,0] = X_real_test[i,0]\n",
    "    y_pred_test_real_final[i,1] = y_pred_test_real[i]\n",
    "    \n",
    "print y_pred_test_real_final"
   ]
  },
  {
   "cell_type": "code",
   "execution_count": 238,
   "metadata": {
    "collapsed": false
   },
   "outputs": [],
   "source": [
    "numpy.savetxt(\"predictive_count.csv\", y_pred_test_real_final, delimiter=\",\",fmt='%d')"
   ]
  },
  {
   "cell_type": "code",
   "execution_count": 239,
   "metadata": {
    "collapsed": true
   },
   "outputs": [],
   "source": [
    "a = np.asarray(y_pred_test_real_final)\n",
    "a.tofile('foo.csv',sep=',',format='%d')"
   ]
  },
  {
   "cell_type": "code",
   "execution_count": null,
   "metadata": {
    "collapsed": true
   },
   "outputs": [],
   "source": []
  }
 ],
 "metadata": {
  "anaconda-cloud": {},
  "kernelspec": {
   "display_name": "Python [conda root]",
   "language": "python",
   "name": "conda-root-py"
  },
  "language_info": {
   "codemirror_mode": {
    "name": "ipython",
    "version": 2
   },
   "file_extension": ".py",
   "mimetype": "text/x-python",
   "name": "python",
   "nbconvert_exporter": "python",
   "pygments_lexer": "ipython2",
   "version": "2.7.12"
  }
 },
 "nbformat": 4,
 "nbformat_minor": 1
}
