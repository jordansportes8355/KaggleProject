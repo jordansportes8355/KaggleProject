{
 "cells": [
  {
   "cell_type": "code",
   "execution_count": 20,
   "metadata": {
    "collapsed": false
   },
   "outputs": [
    {
     "name": "stdout",
     "output_type": "stream",
     "text": [
      "Populating the interactive namespace from numpy and matplotlib\n"
     ]
    }
   ],
   "source": [
    "import numpy as np\n",
    "import matplotlib.pyplot as plt\n",
    "# Load pylab\n",
    "%pylab inline"
   ]
  },
  {
   "cell_type": "code",
   "execution_count": 21,
   "metadata": {
    "collapsed": true
   },
   "outputs": [],
   "source": [
    "X = np.loadtxt('data/train.csv',  delimiter=',', \n",
    "               skiprows=1, usecols=range(0,13),converters = {1: datestr2num})\n",
    "y = np.loadtxt('data/train.csv',  delimiter=',', \n",
    "               skiprows=1, usecols=[14])\n",
    "X_real_test = np.loadtxt('data/test.csv',  delimiter=',', \n",
    "               skiprows=1, usecols=range(0,13),converters = {1: datestr2num})"
   ]
  },
  {
   "cell_type": "code",
   "execution_count": 22,
   "metadata": {
    "collapsed": false
   },
   "outputs": [
    {
     "name": "stdout",
     "output_type": "stream",
     "text": [
      "[ 127.   13.  163. ...,   26.  127.   84.]\n"
     ]
    }
   ],
   "source": [
    "from sklearn.cross_validation import train_test_split\n",
    "X_train, X_test, y_train, y_test = train_test_split(X, y, random_state=42)\n",
    "print y_test"
   ]
  },
  {
   "cell_type": "code",
   "execution_count": 23,
   "metadata": {
    "collapsed": false
   },
   "outputs": [
    {
     "data": {
      "text/plain": [
       "0.73276667189659594"
      ]
     },
     "execution_count": 23,
     "metadata": {},
     "output_type": "execute_result"
    }
   ],
   "source": [
    "from sklearn.neighbors import KNeighborsRegressor\n",
    "kneighbor_regression = KNeighborsRegressor(n_neighbors=2)\n",
    "kneighbor_regression.fit(X_train, y_train)\n",
    "y_pred_test = kneighbor_regression.predict(X_test)\n",
    "kneighbor_regression.score(X_test, y_test)"
   ]
  },
  {
   "cell_type": "code",
   "execution_count": 29,
   "metadata": {
    "collapsed": false
   },
   "outputs": [
    {
     "name": "stdout",
     "output_type": "stream",
     "text": [
      "[  61.    72.5   78.5 ...,  204.5  204.5  204.5]\n"
     ]
    }
   ],
   "source": [
    "y_pred_test_real = kneighbor_regression.predict(X_real_test)\n",
    "print y_pred_test_real"
   ]
  },
  {
   "cell_type": "code",
   "execution_count": 30,
   "metadata": {
    "collapsed": false
   },
   "outputs": [
    {
     "name": "stdout",
     "output_type": "stream",
     "text": [
      "204.5\n",
      "17379.0\n",
      "<type 'numpy.float64'>\n"
     ]
    },
    {
     "data": {
      "text/plain": [
       "432.0"
      ]
     },
     "execution_count": 30,
     "metadata": {},
     "output_type": "execute_result"
    }
   ],
   "source": [
    "for i in range (0,len(y_pred_test_real)-1):\n",
    "    if y_pred_test_real[i] < 0:\n",
    "        y_pred_test_real[i] = 0\n",
    "print y_pred_test_real[6493-1]\n",
    "print X_real_test[6493-1,0]\n",
    "X_real_test[0,0].astype(int)\n",
    "X_real_test[0,0] = int(float(X_real_test[0,0]))\n",
    "print type(X_real_test[0,0])\n",
    "X_real_test[0,0]\n",
    "#caster en int !!"
   ]
  },
  {
   "cell_type": "code",
   "execution_count": 45,
   "metadata": {
    "collapsed": false
   },
   "outputs": [
    {
     "name": "stdout",
     "output_type": "stream",
     "text": [
      "[[  432    61]\n",
      " [  433    72]\n",
      " [  434    78]\n",
      " ..., \n",
      " [17377   204]\n",
      " [17378   204]\n",
      " [17379   204]]\n"
     ]
    }
   ],
   "source": [
    "y_pred_test_real_final = np.ndarray(shape=(len(y_pred_test_real),2), dtype=int)\n",
    "for i in range (0,len(y_pred_test_real)):\n",
    "    y_pred_test_real_final[i,0] = X_real_test[i,0]\n",
    "    y_pred_test_real_final[i,1] = y_pred_test_real[i]\n",
    "    \n",
    "print y_pred_test_real_final"
   ]
  },
  {
   "cell_type": "code",
   "execution_count": 48,
   "metadata": {
    "collapsed": false
   },
   "outputs": [],
   "source": [
    "numpy.savetxt(\"predictive_count.csv\", y_pred_test_real_final, delimiter=\",\",fmt='%d')"
   ]
  },
  {
   "cell_type": "code",
   "execution_count": 44,
   "metadata": {
    "collapsed": true
   },
   "outputs": [],
   "source": [
    "a = np.asarray(y_pred_test_real_final)\n",
    "a.tofile('foo.csv',sep=',',format='%d')"
   ]
  },
  {
   "cell_type": "code",
   "execution_count": null,
   "metadata": {
    "collapsed": true
   },
   "outputs": [],
   "source": []
  }
 ],
 "metadata": {
  "anaconda-cloud": {},
  "kernelspec": {
   "display_name": "Python [conda root]",
   "language": "python",
   "name": "conda-root-py"
  },
  "language_info": {
   "codemirror_mode": {
    "name": "ipython",
    "version": 2
   },
   "file_extension": ".py",
   "mimetype": "text/x-python",
   "name": "python",
   "nbconvert_exporter": "python",
   "pygments_lexer": "ipython2",
   "version": "2.7.12"
  }
 },
 "nbformat": 4,
 "nbformat_minor": 1
}
