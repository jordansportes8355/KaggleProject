{
 "cells": [
  {
   "cell_type": "code",
   "execution_count": 1,
   "metadata": {
    "collapsed": false
   },
   "outputs": [
    {
     "name": "stdout",
     "output_type": "stream",
     "text": [
      "Populating the interactive namespace from numpy and matplotlib\n"
     ]
    }
   ],
   "source": [
    "import numpy as np\n",
    "import matplotlib.pyplot as plt\n",
    "# Load pylab\n",
    "%pylab inline"
   ]
  },
  {
   "cell_type": "code",
   "execution_count": 13,
   "metadata": {
    "collapsed": false
   },
   "outputs": [
    {
     "name": "stdout",
     "output_type": "stream",
     "text": [
      "[   432.    433.    434. ...,  17377.  17378.  17379.]\n"
     ]
    }
   ],
   "source": [
    "uc=[2,3,4,5,8,11,12,13]\n",
    "X = np.loadtxt('data/train.csv',  delimiter=',', \n",
    "               skiprows=1, usecols=uc,converters = {1: datestr2num})\n",
    "y = np.loadtxt('data/train.csv',  delimiter=',', \n",
    "               skiprows=1, usecols=[14])\n",
    "X_real_test = np.loadtxt('data/test.csv',  delimiter=',', \n",
    "               skiprows=1, usecols=uc,converters = {1: datestr2num})\n",
    "firstColumnInd = np.loadtxt('data/test.csv',  delimiter=',', \n",
    "               skiprows=1, usecols=[0],converters = {1: datestr2num})\n",
    "\n"
   ]
  },
  {
   "cell_type": "code",
   "execution_count": 20,
   "metadata": {
    "collapsed": false
   },
   "outputs": [
    {
     "name": "stdout",
     "output_type": "stream",
     "text": [
      "(8164, 8)\n",
      "(2722, 8)\n",
      "(8164,)\n",
      "(2722,)\n"
     ]
    }
   ],
   "source": [
    "from sklearn.cross_validation import train_test_split\n",
    "X_train, X_test, y_train, y_test = train_test_split(X, y, random_state=3)\n",
    "print X_train.shape\n",
    "print X_test.shape\n",
    "print y_train.shape\n",
    "print y_test.shape"
   ]
  },
  {
   "cell_type": "code",
   "execution_count": 33,
   "metadata": {
    "collapsed": false
   },
   "outputs": [
    {
     "name": "stdout",
     "output_type": "stream",
     "text": [
      "0.94806638974\n",
      "0.877728786527\n"
     ]
    }
   ],
   "source": [
    "from sklearn.neighbors import KNeighborsRegressor\n",
    "kneighbor_regression = KNeighborsRegressor(n_neighbors=3)\n",
    "kneighbor_regression.fit(X_train, y_train)\n",
    "\n",
    "y_pred_train = kneighbor_regression.predict(X_train)\n",
    "y_pred_test = kneighbor_regression.predict(X_test)\n",
    "\n",
    "print kneighbor_regression.score(X_train, y_train)\n",
    "print kneighbor_regression.score(X_test, y_test)"
   ]
  },
  {
   "cell_type": "code",
   "execution_count": 14,
   "metadata": {
    "collapsed": false
   },
   "outputs": [
    {
     "name": "stdout",
     "output_type": "stream",
     "text": [
      "[   6.     3.     1.5 ...,  179.5  119.5   90.5]\n"
     ]
    }
   ],
   "source": [
    "y_pred_test_real = kneighbor_regression.predict(X_real_test)\n",
    "print y_pred_test_real"
   ]
  },
  {
   "cell_type": "code",
   "execution_count": 6,
   "metadata": {
    "collapsed": false
   },
   "outputs": [
    {
     "name": "stdout",
     "output_type": "stream",
     "text": [
      "90.5\n",
      "1.0\n",
      "<type 'numpy.float64'>\n"
     ]
    },
    {
     "data": {
      "text/plain": [
       "1.0"
      ]
     },
     "execution_count": 6,
     "metadata": {},
     "output_type": "execute_result"
    }
   ],
   "source": [
    "for i in range (0,len(y_pred_test_real)-1):\n",
    "    if y_pred_test_real[i] < 0:\n",
    "        y_pred_test_real[i] = 0\n",
    "print y_pred_test_real[6493-1]\n",
    "print X_real_test[6493-1,0]\n",
    "X_real_test[0,0].astype(int)\n",
    "X_real_test[0,0] = int(float(X_real_test[0,0]))\n",
    "print type(X_real_test[0,0])\n",
    "X_real_test[0,0]\n",
    "#caster en int !!"
   ]
  },
  {
   "cell_type": "code",
   "execution_count": 18,
   "metadata": {
    "collapsed": false
   },
   "outputs": [
    {
     "name": "stdout",
     "output_type": "stream",
     "text": [
      "[[  432     6]\n",
      " [  433     3]\n",
      " [  434     1]\n",
      " ..., \n",
      " [17377   179]\n",
      " [17378   119]\n",
      " [17379    90]]\n"
     ]
    }
   ],
   "source": [
    "y_pred_test_real_final = np.ndarray(shape=(len(y_pred_test_real),2), dtype=int)\n",
    "\n",
    "for i in range (0,len(y_pred_test_real)):\n",
    "    y_pred_test_real_final[i,0] = firstColumnInd[i]\n",
    "    y_pred_test_real_final[i,1] = y_pred_test_real[i]\n",
    "    \n",
    "print y_pred_test_real_final"
   ]
  },
  {
   "cell_type": "code",
   "execution_count": 19,
   "metadata": {
    "collapsed": false
   },
   "outputs": [],
   "source": [
    "numpy.savetxt(\"predictive_count.csv\", y_pred_test_real_final, delimiter=\",\",fmt='%d')"
   ]
  },
  {
   "cell_type": "code",
   "execution_count": 239,
   "metadata": {
    "collapsed": true
   },
   "outputs": [],
   "source": [
    "a = np.asarray(y_pred_test_real_final)\n",
    "a.tofile('foo.csv',sep=',',format='%d')"
   ]
  },
  {
   "cell_type": "code",
   "execution_count": null,
   "metadata": {
    "collapsed": true
   },
   "outputs": [],
   "source": []
  }
 ],
 "metadata": {
  "anaconda-cloud": {},
  "kernelspec": {
   "display_name": "Python [conda root]",
   "language": "python",
   "name": "conda-root-py"
  },
  "language_info": {
   "codemirror_mode": {
    "name": "ipython",
    "version": 2
   },
   "file_extension": ".py",
   "mimetype": "text/x-python",
   "name": "python",
   "nbconvert_exporter": "python",
   "pygments_lexer": "ipython2",
   "version": "2.7.12"
  }
 },
 "nbformat": 4,
 "nbformat_minor": 1
}
